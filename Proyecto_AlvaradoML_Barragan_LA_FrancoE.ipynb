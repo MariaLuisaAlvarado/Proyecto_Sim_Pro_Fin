{
 "cells": [
  {
   "cell_type": "markdown",
   "metadata": {},
   "source": [
    "<img style=\"float: right; margin: 0px 0px 15px 15px;\" src=\"data:image/jpeg;base64,/9j/4AAQSkZJRgABAQAAAQABAAD/2wCEAAkGBxMTEhUSExMVFRUWFRUXFRgVFxUYFxcVFxUXFhUXGBYYHSggGBolGxUVITEhJSkrLi4uFx8zODMtNygtLisBCgoKDg0OGhAQGy0lHyUtLS0tLS0tLS0tLS0tLS0tLS0tLS0tLS0tLS0tLS0tLS0tLS0tLS0tLS0tLS0tLS0tLf/AABEIAJABXQMBEQACEQEDEQH/xAAcAAACAwEBAQEAAAAAAAAAAAADBAECBQYABwj/xABHEAABAwIEAgYGBgcGBgMAAAABAAIDBBEFEiExQVEGE2FxgZEiMqGxwdEHFEJSkvAVI0NicoLhFlOissLSM0RUg5PxNGTi/8QAGgEAAwEBAQEAAAAAAAAAAAAAAAECAwQFBv/EADsRAAICAQIFAAgEBQMDBQAAAAABAhEDEiEEEzFBUQUUIlJhkaHRMnGx8BVCgZLhYsHxIyRTBjM0ouL/2gAMAwEAAhEDEQA/AERRu6vNt2cVmcDi9NgajDXhue2lvFMiUGlZNPhd2dY4kDhZFk6NtTdDOAAZySL2BSYYq6lcYhDQ0htiRc9yaIypKthKkpXP2t4p2Zxg5bobpqL08ryABqkVHHvUhnE6VjMhbxuhDyRSqgP1B5FwPDinZDxy6lnUMjbXbuixOEl1R6eAsNigUouLpnRYHlDd999VPc6sNUK4vSsZbLuUzPLCMdkej9GAnidPNAumP8xBMyDS0xa0E8UBKGlWy9JTOedOCAhBy6Gzg1O1wILdQkdWCKknaA41A1haWttz00Rt0M88VFqkeq488bXD83RfceRaoKRMlExrAD6x2QJ4oxjXcNBQxtsH6ko/MuOKCpSIOEsOax7k0L1eLuhPDonMl9UmyVmWKMoT6DWNwue7MGnbVF7m2eLk7SMQ3BsqOToTA+zg7kQUCWzs6apxJrbX0ukehPMo9QsNW063FkFxyJ72VOIMva4QLmxsNE8b3FkFIXnrG33GiZEskbBy40xre1Il8RFIw6zGnuNxpZM5Z55N2gNJM6Sdpcdte6yCINzyqxDFpy6Vx7bJoyzScptk4EP1zb80Mrhl/wBQfroHfWr3+0EjonF82zUng/XONgfRG6R0OPtk4O4jrH/ZF9EDxd2JtwPrQXk2LrkBBHJ1biWH4N1jntcbZboJhhttMcwN7ow9ptkbe5QbYtk0JYThInzvOgzae1BMIa7Znve50+t8oNrcLKWG7nbNCJzz1ufRgBDQfLRBSbepsFQxzAtZlu3nyCLJipp6ewxQFsT5n/Zbp4219qAi1DU+yKGsdOTmjyttoT8kxKbyXa2MzDaxsTjfUdiGjGE1HqacDfrEoLRYDftQWlzZWkFr6V5eCW+g2wHzSCcZOVtbD8dM4SZiRkyiw96ZqoNTt9CrpMoILg4k+jt4JEW0qu2Gq4CWEyAHTdP8x5IvS9Rk4Ox5NgbAboZz4lJuuxbE3uc69jlGgJHtQmLK23fYedHmpwW62sSjsatXiVD2HMhLBmtdFI2xrG4qwOIUouXOcLD1R+eKZnlgrbky/R+oa0Oukg4eSinY3hzDZzrgX2SNMSdN+Q9WAYyHkHRPtuXOnCpMz5WZKcX30t5o7HPJacKCNnikDS42Le1BWvHNK2WkrozsLkaBMbyxfRFqZ8Z1Js7vSHFwfXqFgkvJ6JHijvsXF3L2SMTqpG+ibap7hknOOxgTQ63Qckoiz22TMnsOlvWw2+038hI0rmY67ozo3nZMwT7F3RoKaCsLhpmPmgpJ+T01PZodfdAOCSTEJtEGUthcvTM9VGrTs6qIud67thxASOiC5cHJ9WZYaN0zJJBqSUNN+KRpjmk7N04vAbPcLvCDr5+N7vqZNTWl7i4XCRi8mp2iIMYfGCG6g73QVHK47IKzpHK1vqjsKC1nkl0EajF3vOb1Txsgl5W3Y1huMRtY5kgJzINIZYpUwVJ0iERcGN9Em4QCzaegFuKtLPRb6Ztc6fkqaNHktbIpLXOeMp27ECcnLZmtQ1LiywPzS3NE3VWFM0ULCLZiTc8dUyW4wjSVmDiFe+Tb0W8hx7ymc2SUpmcAmYPqaGH1TozdpskzSE2uhrGrke2xOh7EjbVJrdgpXvOhcbJmcr6FGxEaoJUTWgLnNs4k96DZW1uCpqkxE24oJjNw6EVFQ+UZQ3yQKU5TVAqKqdESLackGcMkoMgy3JOyKC7YQ3PElMbH30Noes7kjR46hqPUVeWCzhccEUKGXStwE9YXuF9BfZFESyanuGxKrzhrRsEx5smukjMcCmc7TPCRwQJNmlS+lpxUnVDc0sPhbnsSA61wOzmo1x1ae56OLgsrxPPXsrYtXU0jjewsO1XuYThN70ZwKZiZ8zblBhJWyIajq3X4ce5ARbi7QxUUgP6yPUHcBBUsV+1EU65vE2QQXLxzQPSexGoGRljrbXyQLI/ZikZrWOebNBJ7E7Rz1JukakFGyEdZIQXcG8j8Sg6I4o4lqn18GdW1JkdmPgE0Yzm5u2Vp4HPIa0apMcYuWyHKvAJGNzXBtvZFmsuFklYPD6Zo1cLlJsrDjS6jVLRda/LsEGsYanQbF8Ba1meM34FBU8CStBmYa19MwGwN9SgtQTgjDxnC+pAde7TsgxyYtKswTOCdEUYKSfQDnQNFmvskdFjlJJfRItM0oHlh5JD6Dj3BwQN0wEdDronZKxlq3B3EXaEJkZMLq0hGli1sUzKCOthommHMBq3f4pHZoWixKoDbIM5JBKeFpGqLCMUMgAiw0QVSaoHDhtyQmQsN7BMLis7LogMKadC2L0jy8vsLbaJmeaEr1ERYVJlzWPclYLDJq6Jp4CXZbaoCMW3Ru1lO58QYLC1kHTkhKUVFHOztynKUzhl7LpmrR4Sx7b3Nz2pI6IYISV2Z08BY4tPBM53HS6AuQQwZbdBNGlRADbdB046XQ6XAzGc2cNBt6xtfKdCL99lhllix/wDUyNL4s9Th8mScOSm660c3V1ksb3MzXsSO8cD5K8WSOSKnF2medkeTFJwl1QtHLz4rQiL8j0eHuexz2t9Fu5UuVHXDhXkxuaaVdu7PUWHsa5k0xa2LNu4ixtwPLVRknVRXUrhuEcnzH0W4rWyiKd/VEFma4tq2x10VxujlzXjyy0nnPgl9dljz/qFQa4T/ABKi8mCxt0zObpextex2KmMk+jB4YrvQI0MLN7u8/gq2IcMcetsHNiOX0Y48vaQhEvO1tBUIOhfIbm5QY6ZSdsHJTEbhMHBo2OisdpfBB1cMqkaNbKyPrBmzF3DkkbSajZnwYSXRmQHwQZxxXGycHaGuuXWtzQPEq6mnVyB7crXtAQby32sSgeIhlMrSORQJVHazOx6SKRn/ABBoNANkGeXTJdTiXMsdE7OHTQMO5oHF11KQTXUm0ZWa+Exh0jB2pM2gk2jRljdJM8AWDTbySHvKTNCraIYQH+s46d26KKk1GNPqOYXRh0ReHbBCRcI3G0PU1S1sOZ5G9kIrUlG2Z01PE5vWMOx1TMXGNXE08IkzNe3hl+CS6msHaaMmhIzG7c3ZofegwhXdWaFRq3RmXyT/AKFtOvw0I0s2Z4bdDM4u3R0kdMA029ayaOrTSdGFES0k3sg5IqtyXucbHNfsQDTe9ml+kndXltYos25ktJmZiPSvqgw3W5uUE2ZuqEdMHaMGsIzHjqUHFNqzdw5t425d9EI68a9lUTiUDC30iAUwyxi17TOdqAAbDVBwTpPYq2K+qBKNln3bqgb9nc0cPLz6X2bakrzPSsYZOGlB9eq/NHr+ill5yml7PRkY5DfK/mMp7xt7L+S4P/T3E6sUsL6xe35M29NcPU1kXfb7CMTRma02u7a5A96+hs8qEG3SOrw6pAo5GN1eQ7yPauJekMMs0sH8yPVhwWV4VX8x8s+kmvnY6Clc4dXlMlgLG54O5rs4dRlk1GkITxRjBs08NNomfwha5PxM8fif/cY/HMGWflzAEXHDfiVy8Tl5WJyOTLm5MeZV12NOrxDr39bly3aNN9u1HCycsSk113OhcT6wllqrXQLTD9WXG2hW5rD8LYnUvB4JESaZDZLcEAmVl9PggH7Qaj/VPDkWXFaGKYnKHSEjYpkTdyBfXnMbYHRIWtxRl1eIG9uxBEsnY0+i1axzi19r8ymbYJp7MU6S4e1hMpeLX2B4JBmgl7TZzoeCLjZM5tuqFXv08UE3SBzbpoU+uwxFGy2ik6ko9h/DZMr2u5FSy47OzblrGskfbUPsfFBbkk34IqcYzizmXt6v54IE5uXVAMOxHqo5G63eNEEKWmLXkPhuHSSssXgMvftQEcUpLrsFrZI4GmNhzE7poJyjBaY7mh0elLKeWU8jZHcvFKscpM54V72m4To5dcl0Cy4nK77RQN5JPuDgqS0hw3QSpNbmpT428PDidOSRqs0lK2ExKtz2dtdA8k73BUtZlKCYzoYfX3KCnksE+W5TM27exsUmJxhuQoOiOaKWlmfVlrnejoEGE6b2C0eIPYMoQOGWUVSAVcjibuKZnPU3uKi6DPcfYwgBBqo0j1Qy4QOa2LNqS2Jzb29Fwv4aLyuMxVNTXc970XmvHy31RGAVn1qiHF4BB/jYbe23tXhY/wDsfSVfyv8AR9Pkd3EQ9Z4X4/7r7jNNgFPU00j6hpc1l3Ns5zSC0XvcFfW5HseFwsE1bObw3HG01HC25zytkc0cctydezUL5/h8Es3HZMnZbf1Pq+Gjj5UYSdPS38tz5zi9ZJNUiSR5efV14AcF9RgioypHh7uSbPp+A0xlhZlGzLm+2m6y4jLHE7l3dfM8qeN5sktK6X9AdPj0c0L6eJhzNms9/B9h6IHifYvN9KKTcMfvHmek5qOGOGK3k7+xoQkjTkLL04pJJI6ccdEVFdkP0j/1T78/gmbx/AxC6RmXugolrzwQNMDM4oE2JPJQZjTcMc9mYEd3FI1WJyVo5PEn3cRyKpdDhyyTlQA1hbsNRxRQ+bp6CtTUOfq5xKqqIlOUurLUxNrKWa4+lElt0WXpslzRpfkkVpVbkRNKRoosbiJCCzUw2DrSRe1hdKyorUaDcNZxk9yCtK8g6jDmgEh9/JBMoLyItkeBYOIHeijNpgy0pkaTSmxK8AhGgvqguU7iomfa6ZlVhWN0QOtihFkEMsxyAsY664sgdkNKAsKwoGMBpFroHVEMN3XQT3GWPBKCrQzTgboLiikjS69heyCZJuytGxz7hg1CZONSl+FAJapzTZwsRwQZPI09wMtaSihSyNmhSASNLTxaVnkgpqjv4PLpmmc39HVf1VTNSk7uLm97TY+y3kvnvT/DuWKGZdVs/wDb6n0XAZLcoed0fQOkkohw2e2mcOA73m3xXpcNn5/Dxn3aOWeJYpuK8/qfFqUSVFQQ2xEcQa0EgaXAsL8bArVPHwuNa+73fxZ3YHPPkm4do0v0+5iTQvZMRI1zHZtnC2muo5hd/DZIZPag7RxTjKE1GSpo+y4JnZg/oNtLLH6Jt6rXGwcewNOYrxl6Qjn9IS4etovr226/XZChgccTklvJ/q6X03Yj0eoIYpWRx+kxo9bfM62rvMqcEnxHF632/wCEfO8a1k9KKFbQVfL/ACzTr2ZZHDxXtHRONSFXPsN9EENUCM/BBFjJBAuQQOaRe6Vs0JSwxFwFg3jzQbPTotdjFmr2AakIoweSK3bJp29ZTTTDZt8vghomL14pzXboA6Lasc8yens0E6AHsTl8CODSacm9+xjY/h5idcuDs1zoiL2ozz4XCVtmPKVSMpA3bBMRIfop7msW1EjrylRayMDKblNBJX1NBrlB1WEa5FBaZp4SNJP4D7ikyo9H+QBqBUEBQDQWMk8EyS57QQgDwaEwos1gSDSibpiaLxEZhfZISW+5rGON8TnZbZdja2yDRqMot0Y+VMwokNQKhikbdwHakyo9RmvJz25W+aZU71FKdjibNBKCYp9EEb6Js4apDWz3HGTabJmiZoYe0dU88dULuaQXsMyqGRzHZh4oOeCcXaGsdgDwJQO9Fl8RjUqmZsdHdOzFYUPUkJbmIt4pNnRhhTOVp+jckdZ9aD/tZg3bUnUE911xcVDnYpYl3PUjzMemcHumvl3XyOn6YRS1NGIo3xttIHOzuLfRF9NjxXD6L4XNw6cMlVdrc7uLyY8lSh1OAoOjRa1xdVUzXE/fk5afYXsOSs54T04ml1b+i/ydDHgUEnU/WaqKRzIwy1pDmdfU7C+i82OOeFT5M1G3ffZfI9F8TjnoeWDbUa77vz0OsnxmlEToG1AH6vIP1T7tFrbaLk4L0bydeRyvV3pmUuLhqWmLTXYx6IU7GXjnLyLW/Vlo57kr0uEwLFqd3fwPlI8Hy8k88p25Px/XyamLQ55GZSBmG5XedGSOqSruKV+ESMYXlzSAjcieGUVZn4PJmeSdmi/yQY4t5fkamHV/XRzZgMrRog3xzc4y1dDJj6TDquq6ouPC1kV5OX1uoaXEx8YwuSMguBs4ZtjYX4KlI5c2CUN333OkwcgYZJ/N7ypZ24P/AIsv6nICilyZwx2Xn8U7RxrFOrrYDPJcDjohFvdApW6ITKlDYC/YJkuOyKn1Uu5Wn2QYQOMbLPG3ckbOIw2QBIu6CxSAoBbm50eykyBx0yn3FJmuNLe/AwwUoHrG/ikOsfxMyYjMcp04JmdGhhBkFyxubxskaQ1roHxGrkIyvYB4phNyezPYRQ9aHXNrBAoQ1JjQwkO1Y+4HrIHy0909ilbh4DM8bswG6BSgqtO0eoqFpbmkdYHZAKCq5DUVYyO8ZGZvDZA9Sjs90KVYzG7GEDsBRZlJpvYWy80yaQxREB7e9JlRVMaxQfrD2ge5A8i9phWTGKMOA3KB24LYcr2dZG2UDv7kdrKyLVFTHqeniMJPZqnsaJQ0AMJLXMkF9NUvJGOpRkhN9KxzSY3ajhdMz0RauDLYXNniew8EDxtyg0LsksEyE9hyjmDmutw+ST7m2OVpg3C7e4rkqsp6q3gBx2xjDee1l14cMW22ZyyPSomK+hha112EujAvc7ne5XCpzm1T2f6HscvFGFtbxNDo5hjpck2UnLn7BmJ5nkOC5uNTSeOPR18iYvXCORvfc0aPoZd7pJnj0r+izkf3iPDZb5OJjy448a2RxYeGkpTlN7y8eDebgVMGhoibYd9/E8VzLPNdGaLhMKWnSqL1OFxODbt9XaxIt5FD4rL5H6lgl1j+pc0rMuUtuO03TXGZBvgsHShJmAQNzZWEZxr6R9nLdP13KZr0bw6ul1+LBQ9H4WRvjbnAfuc2u1tDZHr+TwSvRWBRcVe/xF6LovDEczXPv2lp+CP4hPwhR9EYYu4t/T7DeK4UJ4+rL3NHMBtz5qv4jLwh5PRkZx06n9BWLo81lM6nEjrE3zFoO+trJ/xF+6Zx9DxWNwUtn8BeLo+8O1qLtykZerAHYb5kfxJd4/UF6JkpXzNvFf5MZ/QV2tp2/gI+Kteko+79TD+BzX86+X+QL+gsttJo/Jw+Cf8AEYeGJ+hctVqQtL0FqOD4j4vH+lUvSOLwyJehc9bNfX7GdivRienjL3mPLceq651NtAQLrbHxePJLSrMM3o7Nhg5Sqvg/8GBsuk4UqPSutbuQW+xXNdBHUu0kIKqjZwCQ/rOxh9xUmuPpL8hATpk2EFQgeoaosTkZow78LXSoam13NUQVU2vUSu7cjre5Be77M0MMjlhbJ1kMrbtOpY623OyCk6TTVCVBi4Y17fvA+aBKSUWhvBaluSRpI1afcgca0s3OjuC/W4mlxLWNOp58CB80FwgsiTOzosKp4RZkbb8yLnzKpJG8ccY9EPBw5BMoFPSRvFnMa7vATE4p9TLn6KUzjcNLD+6fgdEtKMnhgJ4j0ULrFjxcC3pDfxCNIpYm90ZhwiojaWvg6xvNhDvZoVNGWmaVSjaEJMaMRyOic1vJzSPegz5+najNqMbJvlFgUzKWVvoMdHsVa0ljtnJdGXgyJbMO+nbCXvzgtdsOSKorQsduwWByZY5JDsSbeCCcPswchQTgi6ZAfA6kCUtOzh7kdzTDKp15H4yCHd65J7TTPXx9GCrm+p2a+S6Zz04pBijeRGLWsv1gaPXcL9g4lcODVpi/B6WVx9qHeTN3opQNlcQ/NkDfRaCW8QL6HvXK9OTI9Sv9/v8AaKnkcPZhskdJ/Z2n5S/+ab/ctOTi939DL1jL5/UkYBDwdMP+9J8Sj1bH4F61k8k/oFnCaoH/AHD8Qp9Wx/H5letT+HyPHBRwqKgfzMPvYjkQ+P1GuJn4XyQJ+EO4VUw7+qP+hQ8MfLGuIfhFP0XNwq3+LIz8EuSvI+f/AKUVOGVPCqH80TfgUchef38h89e7+v3KOoKv/qIz/wBn5OUPAvJSzr3QRpK3hLCe9jh/qS5HxHz4+6UdFXD/AKc/+QfAo5HxHz4+PqUvXD9lTnukePe1L1f4/v5hz4eH+/6FHVVYN6Vp/hlHxCXq78lc7H8RzC5JZSQ+AxAblzmnXkAN1UOGbdMnJnjFWjG+kiFrYBzuNf5gu7DjUMkUvj+jPM4ubnw82/h+qPlzivSPnj0vwQVIWLkzJxoK2RI0Rq4FXZC5ojMheLBrRmPkk0aQlptNXZ2+DdGamWxdTthbzlIBt/AAT52RR0RjJ/ypfmdK3oTS2HW3eRwb6I9mvtTo0eGL6/Y2qDDYIhaGBjO0NF/NOi4wjH8KNBrigo8bHdMDLr+jdNP68TCeYGV3mNUUZyxRl1RzVd9HLP2Mz2djhmHdcWPvSoxfDeGddTUvVRNjY3RoAFkkqOpUlSI6yyYwrZUCLtlTAI190AEDkAWDkAS+JrhZwBHEGxQDV9TJquiVJLvA0Hmy7P8ALa6KMJcNjfavy2MKu+jqH9nO5h5PyuHssVDaXVmT4G/wv9/Qw63oRVN9V8co7Hlp8nWHtU64+TOXBZl2sSxGCojjEToXtA3IFx+JtwmpRfcmcMijpcWl+RiNmtsqMV0PRTEOBB1uhjj+JM6KmqdS08vasJxto9yDqwmKvswnk1TxD2UTbh1TcjIDiQ0cXNF+87+KnI44cTfgNTyTNrAq0B8jYQXOY1ocDlDQLm1iSNTrz2Xl44ZY4lka/Fv1/ex1wnilJx1brrsboxaQfsv8bfhdPmTXb6o00Y/e+jLjGnf3TvC/yVrLLx+n3E8MPeX1KHGj/dSfhf8A7Unlfhj5MfeX7/oQ7HBxjl/C75I5rfZhyF7yK/2hYNw8d4T5guT8V8yD0mi4ut4D5pPIx8h/D5kN6TQ/fHs+anmj9Wl+2X/T8Z+2Euah+rz8BG41GftDyKayol4J+AoxRh+01UskRPDPwy36Sj+83xKetE8uXgqK9h2c3zCdi0MNDXNa0nck2ABvc+Gw1VLKoJ+fAuTKb8LuxHEsNbUMIqLlptZoJBFjcWI2TxucZcyT38EcRy5w5UVt3fk+W9LqCKCfJCHtaNCHkH0hY6cbWc3dehgyuadnicXgjikq7mI9y2OZjcGBPecrA5x5NBJ9gWCzvweg+Cj5O+6P/RrTgNdUyPc6wJYPQaOwu3PmFccyez2J9SS3uz6DheEQQNywRMjH7oFz3u3K1LjBR6Khh8Tud0xgiCOCACB6YFwgCWlAF0AWae389yYiwseHlogZPVg9vekAN1F2W7kUgBupLcfMhTa8jplTCQiwo84kbhMR4TEfn5oEOQiwuUN0UkL1NYScrQSTsNvFx4D86rmlNy6G0YJdThukvTyhpSWSzvmkG8VLezTyLmka9hd4IjjsHPwYA+lHD3j0aZgd/wDYHvdlctOVEjWWg6fnQsw+nkbx+rVQafwljSUnhixqbXQM/plhsulXS1FMfvSRlzfCRtz7lnyZR/C/3+QpaJ/jjf789RiLo3S1A6yiqmPG9g4O8LE3HiUczJHqr+n+DF8FjbuDr6/5/UUq8Kmifdzbjs+R1Pgqhnh32/M6Xikum57EpSY7cbjyWWT2po3x7QZmGfKC8/ZBt3n+nvXJx8nNxwruwx1FOTOdwJz5qtjWkgvkF9SLtBzOB5+iCvT4qMY4ljXZHNwKblLK+7PsMeDNsPRb5BeRyj0+YWODj7rfII5QuYUOEdiOWx60VdhHYUuWw1oEcKI5+bvmjlsNUQcmHv5u8yjQx6ogXUL+bvO/vRpYXEC6gf2+IafeEqYeyCfhpO7W+LGf7Ubj2BOwofcj/wDG34BKmPVXdkfozsZ4NI9xRpHrl5fzKfUSOA/FKPc9LT8B8yXvMPhskkLiWsYS63rOedtvWJtuqhafQjI3PqzsGtO537Nh3LqOPofM+nOEPfM6QEaF1m8TsM3+G3gtMGVRbTObi+HlkqSfQ4epaQbEELuTTPKmmnTR96oImxABjWjS2g1t/ENVxwbR7kkmPiqadx56+0fJacxPqZ8troWZbdji3/EPZt4oSX8rr6oTb/mQZtQ8fZDxzadfJUpzXx/IWmL+AWGuYdL5Tydoqjmi9un5kvHJBzC0/wBFsmQVdCdwbpiKOuOFkAWY0nZMKCBttyApckuo1Fso+sjb+8fzzWUs8V03NFiZlYt0mZCLvfHEOBlkZH/mN/JqyeWcun3NOXFdThce+kJh0ZidLEeYhqKgjxADf8KahJ9b/QWqK6HEYjjVfJrDjUMvJrX/AFV57MsjGD/EqUYLrH/cluXkyZ+kOMUrg6SeqaL6F5Lo3dzjdrh3KlHHLpQrkup9F6EfSm6TLHVAX0s8bHvHBQ1KPRl0pdT6pSzskAc2x4i2351VwyKW3ciWOi1XJw/PYoyy7FY49zkOlQqJr0tOSxp/40o0Lr/YadwLb27uaUVY5GHh/wBFMQA6w+Wit7dSfyJr+iGCwC1RNGw8nStafK9/Ylq8DryYsuB9G3HSqa082yEe21k9UvDFUWWj6M4Z/wAvjLmdhnhcPwuIS5jXVC0ryed0CJOeLEqd7hs4xMD/AMcTwUc1d0NY/iaNJh2LRCwrKadn3ZQ86fxau9qzc8cupajNdB19O97bTQRNP3onvPkCwWWaSW8TW5PZmD0hw6Pqy1szr/vNaB3Xz3t4KYxisyyvf4EyhKUHBbCPRKqjpiXshM8gLmmQZtidQ0WIGi2z1OV60vg7+xnilkhDSsb27rT9zr2dNHcaWXwH9QseV/rj8/8ABpzpd8cvkv8AZhW9ORxgmH8v/wCkcmXaUf7kHPXeMv7WFHTeLiyUfyO+CXKyfD+6P3DnwfZ/2y+xb+3VNzeO9j/9qOXk8fVfcpZIPv8AR/Y8OnFJxkt3h3xCnTk91j5kPeXzLM6ZUZ/bMHilpye6/kCnD3l80F/tPSHadn4h81LbXZ/Ipb9wsWP0x/axn+YfNTq+BdMO3E4D+0Z5hGtBTL9fEdnNPiEaohuWAjPL2J3EW5407DwCNgtlfqTTwTSTYnJpGL0z6UGlp5JIWZ3NsATcMBLg3f7Vr7DzC2STnGD7/Zv/AGMHKouXgUoKSWohiqJCwukiY83JHrNB24brmyPTNpeTfH7UE2Dn6Kh5ucn4kRztClgjLqjpA9dFk0Tn7ikx0VMg7jz/AKhIA7alw+1fv3/ENfarWRkuCGRWXFnNv32d7dCPatOan+JEcuujCQvb9lzmeNx5GxTjp/ldCafdWOMmeN8rvYfIrRSmvDIcYv4FJ8WY3ew/iI9g3KHnfZAsJj1vSkC+SKolPKKF9vxPDW+1ReSXwNFCKOdrMfxR+lPhpZyfUSC/ixpH+ZCxLuw1eEYdbgWPVNxJUiJp+zE5sYHiz0j4laKONEPUzMH0MzOOaSpbc6kkOcSe0quYkToHIfoUZb0qo/ys+ZRzUPQMD6FafjUy+DG/NTzh8s0MO+ipkH/BrqqMHcNLQ0/xMNw7xCiWRS7FKFDTvozhOrnMcb+sIRE8+MD2MPiwqdTHSNzBMCmpdI5i9n3JNT3tkaBbuyqXfUdobrOk1KypjppJg2aT1W8jwDiNGk8L7+IVfidgoutjQn6wC0QYD959yO/K3U+YVamZ6TmsU6IS1P8A8ivnLT9iK0TO6zdXD+IlCdBRnRfRLhrd2yO7329wT5jBQHIvo0wwf8uD/E95+KNbHpQ1F0Gw1u1HD4tLv810tb8j0oaZ0do2erSwDuij+SljpEyQMYPRY1vcAPcFBaOcxubf5oos4mvdvsnQHSfRxCHRS6X/AFp/yNXLn/EjXF0Z2QpW8vYsyyfqTeXsTSFZV1A3kEUFgX4ez7o8kBbAyYUw8B5IoLYtJgjPut8gi2u4thZ/R6L+7Z5BVql5J0x8C7+jcP8AdM/CFXMn7zFoh4XyFZOjEP8AdN8ka5+Q0Q8AH9G4xsy3c5w9xRrkGiIE4I0bGQd0j/mlrfhfJBpXx+bPCgcPVmnHdIfii14Q9PxZtdGsFeZC91RM5tspaSLOB3B0utMbXZIyyx7NlfpXiAoXMaLD0LAchJGtMe/FY7/1P/6v7mGWo4JeNv1OjwEZKaCMxn0IY2n0eIYAd1x5pXkl+bOnDGscV8EMmY3/AOET+H5rK6NqOBp+l0kZy1MZ/iAt43Gh9i7VuQ4rtsbtDj8MvqvAJ4O09uxSslwaNNhQSEATAKwp0IZjKpEhGi5308VSQmMNI/N1exJOb8/kpAeDkDLX7Pz5JiJQI8ihnrJUMloQkFlwE6FZzvTjpQyggc8m8hByN435ns+OiUrfsx6sqK21Poj81VWKySzunkcS97sxN9d+BXVy0o0jKGV67P0f9HnSb65SML3DrmDLIOJto19v3h7brnvejacK3XRnSPqWDd7R3kIuPknTLwJy4zTt3lZ4EH3LN5ILqzRYcj6IWf0mph9v2FLnwK9WydxKTphT3sMzu6yh5l4KXDvu0K1HSwnVlPK7tsQPck841gXn6GDiHSWsPqUn4j8DZCyr4DeJLycxiVViMl/1TWeX9VanHyQ4vwc9UUdaT6RHt+S1i4S2VszeqKt7H076O4G09I1skjOse5z3XcL3cdBqfuhq588JOb2fyNMU46eqOtirovvs/EPmskq6otsYZWRn7bPxBWmiaYUPYeI8wj2Rblg1pTqLC2UexqTSBNlCwJUh2yjoQlQWDNOOaKCyhpAjSGoG+j/Nk6CwMlEigsA7Duz8+SNIWM0T2wRySSENaDufzut+GxSm6SMOIyxgrZxuKVr69+oLaZpHo8X2N7nlqB/Vejlx4OEqct8lOvhZ48MmbjZOENsfd+f39DXEs7zpKR2XcPcF4DS8H0CvyF/R0jtTJ5iQ+2ynWitJmho46rcRn1WBxOJcLscftM09mx8QqUmH5FIfrtP6jxKz7uzrdx09oVXF/ALvqrNGh6asuGTNLHHmCPf8Lop9RaYvozqKHEopfUeD2cfLdUpIiUWuo4XcG+fII1E0MNeAFepE0eNWwbuaO9wHxTUkGlg3YtAN5oh/O35o1JDUJPsDOP0w/bMPdc+4Jc2PkfJn4YF/SmlH7X/C/wD2pc2JXq8/Au7ppS3sHOcf3QDp5pPKhrhpfD5gXdOIr2Ecx/l+V0uaP1fy19So6YuPqUsp7w8e9iTzfu0UuHj3f0PHpLUk2FKR/M0/6gp5z/f/AAVyIeWQ7FMQLbtZC0na5cfddTzmDxYziukvRupq5M1TK25tozkCSBrb0RrwWkc+l2iJYtS09jJb9HcX3nHtuAPcVfrczP1WB0WAdBmRekyeVpIINncDa422WM80p9jeEFA3j0dit6Tnu21zEH2WWNM15j8suzAYW6ZSbnXM57r+BNkJtslvY1BhMDdoowexjfkhr4kJhWQNG2inSitTIfEOzxTpCsE+mGuydBqE5aTnZAxSbDb/AGBYi2g4HdVGTjuiZRUlTBw4BAQCYmg+IHsK29byp/ifzOd8Hgf8i+SCSdG6c3s0jS4s949xSfGZ1/Mxrg8FfhRUdGICDo/n67/iULjs/vCfA4Pd/U83oxHmsHyW/jd8UvXcz8fJC9SxJd/7n9yX9G239GaUafeB94S9cn3S+SH6pH3pf3P7kDA5OFVMD25CO71U/XPMI/IXqnicvmQcLqG7VUnbcBHrUf8Axr6/cPVZ/wDkl9PsS6nqxq2qv3svp+JHrOJ9YfVj9Xyrpk+aX2ASyVw/bMP8hHxKrm4PcfzFyuI99f2/5KCvxADeJ34h8E+Zw/h/P/AcviPej8n9yDi+IAXMcLu5x+LQmp8P/q+hLjxP+n6nv7SVo3pWnucPiVSfDv8AmYv+492Pzf2CM6U1N/So3eDmf7k6w9pv5f5BPP3gv7v/AMiVeZqx3ptdGxpFmG1td3XBNyu7FxuLh8dQVy8nBn4LPxU1remPgPLSiJtmjv8Az8F5M8k8s9UmevjxQxQUYKkiafXbTz1UNDsYL38HEeJUUvA7YlATxW7okK+cN335JVYyQSSNN9bfNOkFk1FJHIMr2tdf7wvdJNroPYzG9HGtIMT3sF9AHXb5HZNzvqhx26MZmwtzt55Cdtxw4KdVFJ/kDOBggF0shvpu35Jcxlphm9HYwdSTbtt52S1thqYyzBIbag+Lne66Wpg5MJ+hIDvG06W1HDuT1PyKwkOEU4/ZM/CPlsk5S8iHYYGDZoHcAPYpodsO0gcAigtl4wCNv/S0pIjUwmg5BIe54yezdIAU7A8W80wsVdS6jU2HAWt5ougQwx7WCwSsZLqgI6i6AGT3I9iaQ30Hny3Q0SigkUjL5kxEOKdBYBx3tqgCImF21xbcdqKQN0NQQ5R3njunpRNlXuDTtz/qhpDRHWngApcCrKsmcOCFjBtFmP7Lo5YWW6w8kniFZQyHiFLxsdg23voNFOgeoFIy/DuTUaCwDu0WSaoadgy/kkMG6UckwAl/YqEGifbcKosllZhm4q9iRV0RGxTJaKmtI0IB7k6RFNBG23Us1Jp4dcxA7EN0qFQRp3Pgp3KoMYQe/j8kaqCgNQcjdBc8FUPaExQh1hob/MpNblIZYHEtFjYa+Kmn1GMRSnNsfz+QlQEuNuLk6+AA2z37gL/LvRpYFIqgcTbknpYWHjnDrAX39yWlpgFY8OIHM29qa6g+hrTEAWTe5KQmSPJD2Huyl9ewKSqLRg+aGxUTJokNIEyMHf8A9WVITKTAXICYJMHFYPHePgnEJdDRlQSjzHAJDomLU7ooGHkjAtzTokGz4oAmJlnXOyEgbG5PSGiolbC0zNL8k62GmBz8llbNKAmY3TUmLSgnWna9k7YqRYB3NO2LYJawSsKPNaLKGME1oulQ2BqIr62T0thdCxaBrxUUWedGCLjxHJKgASQosZRjyNCmTREjQdQSmhMSlDhxWiaIaBuZayd2FH//2Q==\" width=\"300px\" height=\"100px\" />\n",
    "\n",
    "\n",
    "# Proyecto \"EFICIENCIA TERMINAL EN EDUCACIÓN\".\n",
    "\n",
    ">Integrantes:\n",
    "- María Luisa Alvarado López. Exp: 715373\n",
    "- Lizbeth Alejandra Barragán Vazquez. Exp: \n",
    "- Edzná Franco Jaramillo. Exp: 706432\n",
    "\n"
   ]
  },
  {
   "cell_type": "markdown",
   "metadata": {},
   "source": [
    "\n",
<<<<<<< Updated upstream
    "## 1.1 Descripción.\n",
    "\n",
    "> Este trabajo tiene como objetivo realizar una simulación en la que se calcule el porcentaje de eficiencia terminal en educación en México es decir, qué porcentaje de alumnos realmente termina los diferentes niveles escolares del país en los estados que conforman a México. Dicha simulación puede ser de gran ayuda por ejemplo cuando se quiera realizar el Presupuesto de Egresos de los estados para tener un mejor aprovechamiento de los recursos y destinar los recursos de manera más adecuadas a los proyectos en relación al sector educativo. \n",
    "\n",
=======
    "### 1.1 Simulación de la esperanza educativa de la población.\n",
    "> Se pretende simular la esperanza de escolaridad de la población que se encuentra entre los 5 y los 29 años de edad. Este es el resultado de sumar las tasas netas de escolarización por edad independientemente del nivel educativo que cursen.\t\n",
>>>>>>> Stashed changes
    "\n",
    "### 1.2 Objetivos.\n",
    "> Realizar la simulación por el método Monte Carlo para el 2020.\n",
    "> \n",
    "\n",
    "> - Se refieren a los propósitos por los cuales se hace el trabajo.\n",
    "> - Deben ser concretos, evaluables y verificables.\n",
    "> - Deben ser escritos en infinitivo.\n",
    "> #### 1.1 Objetivo general.\n",
    ">  - Fin último de estudio. Se formula atendiendo el propósito global del trabajo. No presenta detalles.\n",
    ">  - Se orienta a la totalidad del trabajo. Tiene que ver con el título del trabajo.\n",
    "> #### 1.2 Objetivos específicos\n",
    ">  - De forma detallada describen cada una de los componentes del trabajo.\n",
    ">  - En conjunto garantizan la consecución del objetivo general.\n",
    "\n",
    "Referencia:\n",
    "- https://es.slideshare.net/rosbur/metodologia-objetivos-generales-y-especficos\n",
    "\n",
    "### 1.3 Definición del problema.\n",
    "> Se debe describir en una cuartilla máximo cuál es el escenario de negocio que se va a modelar, identificar cuáles son los supuestos que defines en el negocio y cuáles son los \"nodos\" o \"escenarios\" que identificas necesarios simular y porqué. Debes elaborar un diagrama de inicio a fin, identificando los \"nodos\" o \"escenarios\" a simular.\n",
    "\n",
    "### 1.4 Nodos y variables que se decidieron simular y porqué\n",
    "> En este apartado el objetivo es identificar los problemas que se van a abordar, para examinar la factibilidad y viabilidad de la simulación de los nodos escogidos. Posteriormente se debe de argumentar del porqué de los nodos escogidos.\n",
    "\n",
    "### 1.5 Definición de hipótesis y supuestos.\n",
    ">  Para poder modelar un proceso de negocio o cualquiera otro proceso en el área de las ingenierías o ciencias sociales, después de identificar el objeto de estudio, es importante indicar cuales son los supuestos que se dan por verdaderos a lo largo de la ejecución del proceso. Estos supuestos se deben indicar en forma de variables e hipótesis (son diferentes), porque si puedes definir en un valor el supuesto lo llamaremos \"supuesto constante\" y si no es posible identificarlo con un número entonces será una hipótesis que afectará la construcción de los escenarios posibles del proceso.\n",
    "\n",
    "### 1.6 Obtención de bases de datos\n",
    "> El tercer paso del proyecto es indicar de dónde se obtendrán las bases de datos, que indican como se han comportado las variables que identificaste en tu proceso de negocio que vas a simular. En esta investigación debes haber encontrado información propia de la empresa, organización o institución que vas a simular y otra parte de la información debe provenir de investigación que realices en fuentes de información públicas o privadas como las que tiene SECOBI, ahí normalmente y dependiendo del problema elegido, se investigan variables económicas, como tasas de interés, inflación, tipo de cambio, etc., de varios años, por poner un ejemplo.\n",
    "\n",
    "### 1.7 Visualización de resultados de simulación.\n",
    "> Se deben simular al menos 4  \"nodos\" o \"escenarios\" en tu problema. Para la segunda entrega debes haber elaborado un programa que simule dos de ellos, los primeros dos de tu diagrama.\n",
    "> Para la entrega final deben de tener los 4 nodos con todas sus simulaciones.\n",
    "\n",
    "### 1.6 Conclusiones.\n",
    "> Mucho cuidado, las conclusiones no son cualquier cosa. Se debe concluir respecto a los objetivos planteados de acuerdo a los resultados obtenidos.\n",
    "\n",
    "### 1.7 Referencias.\n",
    "> Citar (en formato APA) la bibliografía utilizada."
   ]
  },
  {
   "cell_type": "markdown",
   "metadata": {},
   "source": [
    "<script>\n",
    "  $(document).ready(function(){\n",
    "    $('div.prompt').hide();\n",
    "    $('div.back-to-top').hide();\n",
    "    $('nav#menubar').hide();\n",
    "    $('.breadcrumb').hide();\n",
    "    $('.hidden-print').hide();\n",
    "  });\n",
    "</script>\n",
    "\n",
    "<footer id=\"attribution\" style=\"float:right; color:#808080; background:#fff;\">\n",
    "Created with Jupyter by Esteban Jiménez Rodríguez.\n",
    "</footer>"
   ]
  }
 ],
 "metadata": {
  "kernelspec": {
   "display_name": "Python 3",
   "language": "python",
   "name": "python3"
  },
  "language_info": {
   "codemirror_mode": {
    "name": "ipython",
    "version": 3
   },
   "file_extension": ".py",
   "mimetype": "text/x-python",
   "name": "python",
   "nbconvert_exporter": "python",
   "pygments_lexer": "ipython3",
   "version": "3.7.4"
  }
 },
 "nbformat": 4,
 "nbformat_minor": 2
}
