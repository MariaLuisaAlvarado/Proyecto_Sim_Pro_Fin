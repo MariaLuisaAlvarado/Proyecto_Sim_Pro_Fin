{
 "cells": [
  {
   "cell_type": "markdown",
   "metadata": {},
   "source": [
    "<img style=\"float: right; margin: 0px 0px 15px 15px;\" src=\"https://upload.wikimedia.org/wikipedia/commons/b/b6/Proyecto_en_construccion.jpg\" width=\"300px\" height=\"100px\" />\n",
    "\n",
    "\n",
    "# Proyecto Simulación de Procesos Financieros.\n",
    "\n",
    "**Profesor:** Oscar David Jaramillo Zuloaga\n",
    "\n",
    "**Alumnas:**\n",
    "\n",
    "Edzná Franco Jaramillo. *Expediente: 706432*\n",
    "\n",
    "Maria Luisa Álvarado López. *Expediente:*\n",
    "\n",
    "Lizbeth Alejandra Barragán Vázquez. *Expediente:* 714735\n"
   ]
  },
  {
   "cell_type": "markdown",
   "metadata": {},
   "source": [
    "## 1. Entregable.\n",
    "Los trabajos deben tener los siguientes componentes básicos.\n",
    "\n",
    "### 1.1 Título del trabajo.\n",
    "> Debe describir el trabajo."
   ]
  },
  {
   "cell_type": "markdown",
   "metadata": {},
   "source": [
    "### 1.2 Objetivos.\n",
    "> - Se refieren a los propósitos por los cuales se hace el trabajo.\n",
    "> - Deben ser concretos, evaluables y verificables.\n",
    "> - Deben ser escritos en infinitivo.\n",
    "> #### 1.1 Objetivo general.\n",
    ">  - Fin último de estudio. Se formula atendiendo el propósito global del trabajo. No presenta detalles.\n",
    ">  - Se orienta a la totalidad del trabajo. Tiene que ver con el título del trabajo.\n",
    "> #### 1.2 Objetivos específicos\n",
    ">  - De forma detallada describen cada una de los componentes del trabajo.\n",
    ">  - En conjunto garantizan la consecución del objetivo general.\n",
    "\n",
    "Referencia:\n",
    "- https://es.slideshare.net/rosbur/metodologia-objetivos-generales-y-especficos\n"
   ]
  },
  {
   "cell_type": "markdown",
   "metadata": {},
   "source": [
    "### 1.3 Definición del problema.\n",
    "> Se debe describir en una cuartilla máximo cuál es el escenario de negocio que se va a modelar, identificar cuáles son los supuestos que defines en el negocio y cuáles son los \"nodos\" o \"escenarios\" que identificas necesarios simular y porqué. Debes elaborar un diagrama de inicio a fin, identificando los \"nodos\" o \"escenarios\" a simular."
   ]
  },
  {
   "cell_type": "markdown",
   "metadata": {},
   "source": [
    "\n",
    "### 1.4 Nodos y variables que se decidieron simular y porqué\n",
    "\n",
    "El problema que se aborda en este proyecto es la contaminación del ambiente que presenta la Zona Metropolitana de Guadalajara, misma que tendrá enfoque en cuatro zonas que consideramos como las más importantes de la misma:\n",
    "\n",
    "-\tCentro\n",
    "-\tLas Águilas\n",
    "-\tVallarta\n",
    "-\tTlaquepaque \n",
    "\n",
    "Elegimos estás zonas puesto que las primeras tres son donde más población se concentra tanto en vivienda como en personas que pasan diariamente o poseen trabajos en esos lugares. \n",
    "Asimismo, tenemos un interés específico en Tlaquepaque porque es el lugar donde se encuentra ubicado ITESO que es el lugar donde nos encontramos realizando nuestras actividades escolares diariamente.\n",
    "\n",
    "Escogimos dos variables de nuestra base de datos:\n",
    "\n",
    "1.\t**CO:** monóxido de carbono, también denominado óxido de carbono (II), gas carbonoso y anhídrido carbonoso cuya fórmula química es CO, es un gas incoloro y altamente tóxico. Puede causar la muerte cuando se respira en niveles elevados. Se produce por la combustión deficiente de sustancias como gas, gasolina, queroseno, carbón, petróleo, tabaco o madera. \n",
    "\n",
    "2.\t**Temperatura externa:** Temperatura presente en el ambiente.\n",
    "\n",
    "Dado que el CO es un compuesto químico de alto grado de peligrosidad en el ambiente, decidimos utilizarlo como una forma de ver qué tan contaminada está nuestra ciudad y hacer una simulación que muestre el comportamiento en años subsecuentes. Esto en relación a la temperatura que se presente para cada zona puesto que esta es una variable que se encuentra correlacionada al compuesto químico, ya que la presencia del químico hace que la temperatura aumente y es una medida de observar el calentamiento global que tenemos en Guadalajara.\n",
    "\n",
    "Por tanto, nuestros nodos corresponderán a las zonas que se describieron con anterioridad con los datos del CO y la Temperatura para cada caso correspondiente. Teniendo así cuatro áreas de enfoque:\n",
    "\n",
    "-\tCO/Temperatura en Centro\n",
    "-\tCO/Temperatura en Las Águilas\n",
    "-\tCO/Temperatura en Vallarta\n",
    "-\tCO/Temperatura en Tlaquepaque \n",
    "\n",
    "Como se mencionó con anterioridad la finalidad de hacer uso de esos cuatro nodos planteados es observar el comportamiento de la contaminación del aire con un compuesto químico muy presente en el ambiente por todas las emisiones de este gas por parte de los habitantes de una ciudad, así como de la temperatura de cuatro zonas importantes de la ciudad para poder abordar la contaminación que se presenta en nuestra área geográfica y determinar así posibles soluciones al problema de contaminación que nos aborda a todos como agentes activos del medio ambiente.\n"
   ]
  },
  {
   "cell_type": "markdown",
   "metadata": {},
   "source": [
    "\n",
    "### 1.6 Obtención de bases de datos\n",
    "> El tercer paso del proyecto es indicar de dónde se obtendrán las bases de datos, que indican como se han comportado las variables que identificaste en tu proceso de negocio que vas a simular. En esta investigación debes haber encontrado información propia de la empresa, organización o institución que vas a simular y otra parte de la información debe provenir de investigación que realices en fuentes de información públicas o privadas como las que tiene SECOBI, ahí normalmente y dependiendo del problema elegido, se investigan variables económicas, como tasas de interés, inflación, tipo de cambio, etc., de varios años, por poner un ejemplo."
   ]
  },
  {
   "cell_type": "markdown",
   "metadata": {},
   "source": [
    "### 1.7 Visualización de resultados de simulación.\n",
    "> Se deben simular al menos 4  \"nodos\" o \"escenarios\" en tu problema. Para la segunda entrega debes haber elaborado un programa que simule dos de ellos, los primeros dos de tu diagrama.\n",
    "> Para la entrega final deben de tener los 4 nodos con todas sus simulaciones.\n"
   ]
  },
  {
   "cell_type": "markdown",
   "metadata": {},
   "source": [
    "\n",
    "### 1.6 Conclusiones.\n",
    "> Mucho cuidado, las conclusiones no son cualquier cosa. Se debe concluir respecto a los objetivos planteados de acuerdo a los resultados obtenidos."
   ]
  },
  {
   "cell_type": "markdown",
   "metadata": {},
   "source": [
    "\n",
    "### 1.7 Referencias.\n",
    "> Citar (en formato APA) la bibliografía utilizada."
   ]
  },
  {
   "cell_type": "markdown",
   "metadata": {},
   "source": [
    "<script>\n",
    "  $(document).ready(function(){\n",
    "    $('div.prompt').hide();\n",
    "    $('div.back-to-top').hide();\n",
    "    $('nav#menubar').hide();\n",
    "    $('.breadcrumb').hide();\n",
    "    $('.hidden-print').hide();\n",
    "  });\n",
    "</script>\n",
    "\n",
    "<footer id=\"attribution\" style=\"float:right; color:#808080; background:#fff;\">\n",
    "Created with Jupyter by Esteban Jiménez Rodríguez.\n",
    "</footer>"
   ]
  }
 ],
 "metadata": {
  "kernelspec": {
   "display_name": "Python 3",
   "language": "python",
   "name": "python3"
  },
  "language_info": {
   "codemirror_mode": {
    "name": "ipython",
    "version": 3
   },
   "file_extension": ".py",
   "mimetype": "text/x-python",
   "name": "python",
   "nbconvert_exporter": "python",
   "pygments_lexer": "ipython3",
   "version": "3.7.4"
  }
 },
 "nbformat": 4,
 "nbformat_minor": 2
}
